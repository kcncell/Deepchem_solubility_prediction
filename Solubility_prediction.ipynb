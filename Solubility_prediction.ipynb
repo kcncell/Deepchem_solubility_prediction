{
 "cells": [
  {
   "cell_type": "markdown",
   "id": "caa32bd9-1acd-4aaf-ad0f-2a640b5e1e62",
   "metadata": {},
   "source": [
    "# Train a neural network to predict solubility of a molecule using Deepchem"
   ]
  },
  {
   "cell_type": "code",
   "execution_count": 20,
   "id": "c5bcce6c-9d2c-417e-8181-a9446f8bb2de",
   "metadata": {},
   "outputs": [],
   "source": [
    "import deepchem as dc"
   ]
  },
  {
   "cell_type": "code",
   "execution_count": 21,
   "id": "7a012a21-f634-4c15-ae7c-62a18bd98c07",
   "metadata": {},
   "outputs": [],
   "source": [
    "tasks, datasets, transformers = dc.molnet.load_delaney(featurizer='GraphConv')"
   ]
  },
  {
   "cell_type": "code",
   "execution_count": 22,
   "id": "603eaf74-1516-4877-b87d-a99494002997",
   "metadata": {},
   "outputs": [],
   "source": [
    "train, valid, test = datasets"
   ]
  },
  {
   "cell_type": "code",
   "execution_count": 23,
   "id": "6f20d3ec-19c5-4a3b-aff6-66e584a18b5c",
   "metadata": {},
   "outputs": [
    {
     "name": "stdout",
     "output_type": "stream",
     "text": [
      "(902,)\n"
     ]
    }
   ],
   "source": [
    "print(train.X.shape)"
   ]
  },
  {
   "cell_type": "code",
   "execution_count": 24,
   "id": "1535df00-94bc-4c0e-8934-b105946bcf86",
   "metadata": {},
   "outputs": [
    {
     "name": "stdout",
     "output_type": "stream",
     "text": [
      "(902, 1)\n"
     ]
    }
   ],
   "source": [
    "print(train.y.shape)"
   ]
  },
  {
   "cell_type": "code",
   "execution_count": 25,
   "id": "1a17dc1b-8c53-4d04-8dd7-7e755c91d5a1",
   "metadata": {},
   "outputs": [
    {
     "name": "stdout",
     "output_type": "stream",
     "text": [
      "(902, 1)\n"
     ]
    }
   ],
   "source": [
    "print(train.w.shape)"
   ]
  },
  {
   "cell_type": "code",
   "execution_count": 26,
   "id": "ab19bf86-1818-42ac-b382-96b3a6f02b5a",
   "metadata": {},
   "outputs": [
    {
     "name": "stdout",
     "output_type": "stream",
     "text": [
      "(113,)\n"
     ]
    }
   ],
   "source": [
    "print(test.X.shape)"
   ]
  },
  {
   "cell_type": "code",
   "execution_count": 27,
   "id": "3ff382fb-145d-4e34-902e-5c8e65eceeca",
   "metadata": {},
   "outputs": [],
   "source": [
    "model = dc.models.GraphConvModel(n_tasks=1, mode='regression', graph_conv_layers=[128,128], dropout=0.20)"
   ]
  },
  {
   "cell_type": "code",
   "execution_count": 28,
   "id": "aba3a6e2-64f6-4107-a08e-66ca4611d17d",
   "metadata": {},
   "outputs": [
    {
     "data": {
      "text/plain": [
       "0.07936591148376465"
      ]
     },
     "execution_count": 28,
     "metadata": {},
     "output_type": "execute_result"
    }
   ],
   "source": [
    "model.fit(train, nb_epoch=100)"
   ]
  },
  {
   "cell_type": "code",
   "execution_count": 30,
   "id": "44f3c90b-e08f-49a5-804a-42d4cf74cbd3",
   "metadata": {},
   "outputs": [
    {
     "name": "stdout",
     "output_type": "stream",
     "text": [
      "{'pearson_r2_score': 0.9374500190907639}\n",
      "{'pearson_r2_score': 0.6986325676356265}\n"
     ]
    }
   ],
   "source": [
    "metrics = dc.metrics.Metric(dc.metrics.pearson_r2_score)\n",
    "train_scores = model.evaluate(train, [metrics], transformers)\n",
    "print(train_scores)\n",
    "\n",
    "test_score = model.evaluate(test, [metrics], transformers)\n",
    "print(test_score)"
   ]
  },
  {
   "cell_type": "code",
   "execution_count": 31,
   "id": "acefc06d-ded6-4b15-8e74-a0d0d646d76c",
   "metadata": {},
   "outputs": [],
   "source": [
    "smiles = ['Nc1cccc(O)c1', 'CC1CCCC(C)C1']"
   ]
  },
  {
   "cell_type": "code",
   "execution_count": 32,
   "id": "4a8d1804-9994-41c5-9208-08f32c028f9f",
   "metadata": {},
   "outputs": [],
   "source": [
    "from rdkit import Chem"
   ]
  },
  {
   "cell_type": "code",
   "execution_count": 33,
   "id": "c70abf61-4846-4da4-b1a7-9d8670ebc834",
   "metadata": {},
   "outputs": [
    {
     "data": {
      "text/plain": [
       "[<rdkit.Chem.rdchem.Mol at 0x172100e0740>,\n",
       " <rdkit.Chem.rdchem.Mol at 0x172100e0200>]"
      ]
     },
     "execution_count": 33,
     "metadata": {},
     "output_type": "execute_result"
    }
   ],
   "source": [
    "mol = [Chem.MolFromSmiles(molecules) for molecules in smiles]\n",
    "mol"
   ]
  },
  {
   "cell_type": "code",
   "execution_count": 34,
   "id": "84597e08-17ea-470b-b3db-d7d6c3d6760a",
   "metadata": {},
   "outputs": [],
   "source": [
    "featurizer = dc.feat.ConvMolFeaturizer()\n",
    "featurized_mol = featurizer.featurize(mol)"
   ]
  },
  {
   "cell_type": "code",
   "execution_count": 35,
   "id": "2a5e304b-a82b-478e-b770-a38d5945a761",
   "metadata": {},
   "outputs": [
    {
     "name": "stdout",
     "output_type": "stream",
     "text": [
      "[[ 1.8283415 ]\n",
      " [-0.61796635]]\n"
     ]
    }
   ],
   "source": [
    "prediction = model.predict_on_batch(featurized_mol)\n",
    "print(prediction)"
   ]
  },
  {
   "cell_type": "code",
   "execution_count": null,
   "id": "c29973ea-ef29-4a5b-ac32-6152913da7f9",
   "metadata": {},
   "outputs": [],
   "source": []
  }
 ],
 "metadata": {
  "kernelspec": {
   "display_name": "Python 3 (ipykernel)",
   "language": "python",
   "name": "python3"
  },
  "language_info": {
   "codemirror_mode": {
    "name": "ipython",
    "version": 3
   },
   "file_extension": ".py",
   "mimetype": "text/x-python",
   "name": "python",
   "nbconvert_exporter": "python",
   "pygments_lexer": "ipython3",
   "version": "3.10.12"
  }
 },
 "nbformat": 4,
 "nbformat_minor": 5
}
